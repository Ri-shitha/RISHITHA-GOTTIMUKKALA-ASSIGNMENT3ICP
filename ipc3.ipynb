{
 "cells": [
  {
   "cell_type": "code",
   "execution_count": 4,
   "id": "e605fe41",
   "metadata": {},
   "outputs": [
    {
     "name": "stdout",
     "output_type": "stream",
     "text": [
      "Average salary: $61666.67\n",
      "Total employees: 3\n"
     ]
    }
   ],
   "source": [
    "class Employee:\n",
    "    total_employees = 0\n",
    "\n",
    "    def __init__(self, name, family, salary, department):\n",
    "        self.name = name\n",
    "        self.family = family\n",
    "        self.salary = salary\n",
    "        self.department = department\n",
    "        Employee.total_employees += 1\n",
    "\n",
    "    def average_salary(self, employee_list):\n",
    "        total_salary = 0\n",
    "        for e in employee_list:\n",
    "            total_salary += e.salary\n",
    "        return total_salary / len(employee_list)\n",
    "\n",
    "class FulltimeEmployee(Employee):\n",
    "    def __init__(self, name, family, salary, department):\n",
    "        super().__init__(name, family, salary, department)\n",
    "\n",
    "# Creating instances of Employee and FulltimeEmployee classes\n",
    "employee1 = Employee(\"John Doe\", \"Family A\", 60000, \"HR\")\n",
    "employee2 = Employee(\"Jane Smith\", \"Family B\", 55000, \"IT\")\n",
    "fulltime_employee1 = FulltimeEmployee(\"Alice Johnson\", \"Family C\", 70000, \"Finance\")\n",
    "\n",
    "# Calling member functions\n",
    "employees = [employee1, employee2, fulltime_employee1]\n",
    "avg_salary = employee1.average_salary(employees)\n",
    "print(f\"Average salary: ${avg_salary:.2f}\")\n",
    "print(f\"Total employees: {Employee.total_employees}\")"
   ]
  },
  {
   "cell_type": "code",
   "execution_count": 5,
   "id": "a443eac4",
   "metadata": {},
   "outputs": [
    {
     "name": "stdout",
     "output_type": "stream",
     "text": [
      "original vector :  [12.11852315  3.87389228  6.64168093  2.06409301 12.27399514 15.56194097\n",
      " 10.27769651 10.37356743 14.59445946  2.09840572 10.55270966  2.71176736\n",
      " 16.13024596  6.59213746 15.91063485  4.81548001 11.18139772 17.38168616\n",
      "  9.67742174  7.9769566 ]\n",
      "Original reshaped array:\n",
      "[[12.11852315  3.87389228  6.64168093  2.06409301  0.        ]\n",
      " [ 0.         10.27769651 10.37356743 14.59445946  2.09840572]\n",
      " [10.55270966  2.71176736  0.          6.59213746 15.91063485]\n",
      " [ 4.81548001 11.18139772  0.          9.67742174  7.9769566 ]]\n"
     ]
    }
   ],
   "source": [
    "import numpy as np\n",
    "\n",
    "\n",
    "random_vector = np.random.uniform(1, 20, size=20)\n",
    "\n",
    "print(\"original vector : \",random_vector)\n",
    "\n",
    "reshaped_array = random_vector.reshape(4, 5)\n",
    "\n",
    "\n",
    "reshaped_array[np.arange(reshaped_array.shape[0]), np.argmax(reshaped_array, axis=1)] = 0\n",
    "\n",
    "print(\"Original reshaped array:\")\n",
    "print(reshaped_array)"
   ]
  },
  {
   "cell_type": "code",
   "execution_count": null,
   "id": "b484625d",
   "metadata": {},
   "outputs": [],
   "source": []
  }
 ],
 "metadata": {
  "kernelspec": {
   "display_name": "Python 3 (ipykernel)",
   "language": "python",
   "name": "python3"
  },
  "language_info": {
   "codemirror_mode": {
    "name": "ipython",
    "version": 3
   },
   "file_extension": ".py",
   "mimetype": "text/x-python",
   "name": "python",
   "nbconvert_exporter": "python",
   "pygments_lexer": "ipython3",
   "version": "3.11.4"
  }
 },
 "nbformat": 4,
 "nbformat_minor": 5
}
